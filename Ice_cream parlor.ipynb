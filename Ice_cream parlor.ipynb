{
 "cells": [
  {
   "cell_type": "code",
   "execution_count": 6,
   "metadata": {},
   "outputs": [
    {
     "name": "stdout",
     "output_type": "stream",
     "text": [
      "Welcome to ice cream parlor\n",
      "Would you like ice cream(i) or sundae (s)\n",
      "what you want icecrean or sundae i/s :i\n",
      "available flavours are vanilla,strawberry,choclate,blueberry\n",
      "which flavour do u want: strawberry\n",
      "which size do u want s/l: s\n",
      "cost of ice cream =  7\n",
      "would you like anytghing else:\n",
      "enter your response y/n: n\n"
     ]
    }
   ],
   "source": [
    "class ice_cream:\n",
    "    small_cone = 1.5\n",
    "    large_cone = 2.5\n",
    "    pi =3.14\n",
    "    def flavour(self):\n",
    "        print(\"available flavours are vanilla,strawberry,choclate,blueberry\")\n",
    "        flv = input(\"which flavour do u want: \")\n",
    "        size = input(\"which size do u want s/l: \")\n",
    "        cost = self.cost_icecream(size)\n",
    "        if order_type == \"i\":\n",
    "            print(\"cost of ice cream = \",round(cost))\n",
    "        return round(cost)\n",
    "    \n",
    "    def cost_icecream(self,size):\n",
    "        if size == \"s\":\n",
    "            vol = 4/3 * self.pi *(self.small_cone ** 3)\n",
    "            cost = vol * 0.5\n",
    "        elif size == \"l\":\n",
    "            vol = 4/3 * self.pi *(self.large_cone ** 3)\n",
    "            cost = vol * 0.5\n",
    "        else:\n",
    "            print(\"enter a valid size\")\n",
    "        return cost\n",
    "            \n",
    "class toppings(ice_cream):\n",
    "    def select_top(self):\n",
    "        print(\"available toppings are choco_chips , caramel, sprinkles\")\n",
    "        top = input(\" enter what toppings do u like separated by comma: \")\n",
    "        top_list = top.split(\",\")\n",
    "        i_cost = self.flavour()\n",
    "        t_cost = self.topping_cost(top_list)\n",
    "        print(\"the cost of sundae is : \",i_cost + t_cost)\n",
    "         \n",
    "    def topping_cost(self,top_list):\n",
    "        cost = len(top_list) * 2\n",
    "        return cost\n",
    "        \n",
    "print(\"Welcome to ice cream parlor\")\n",
    "\n",
    "while True:\n",
    "    print(\"Would you like ice cream(i) or sundae (s)\")\n",
    "    order_type = input(\"what you want icecrean or sundae i/s :\")\n",
    "    if order_type == \"i\":\n",
    "        order = ice_cream()\n",
    "        order.flavour()\n",
    "    elif order_type == \"s\":\n",
    "        sundae = toppings()\n",
    "        sundae.select_top()\n",
    "    else:\n",
    "        print(\"enter a valid choice\")\n",
    "        \n",
    "    print(\"would you like anytghing else:\")\n",
    "    more = input(\"enter your response y/n: \")\n",
    "    if more == \"n\":\n",
    "        break"
   ]
  },
  {
   "cell_type": "code",
   "execution_count": null,
   "metadata": {},
   "outputs": [],
   "source": []
  }
 ],
 "metadata": {
  "kernelspec": {
   "display_name": "Python 3",
   "language": "python",
   "name": "python3"
  },
  "language_info": {
   "codemirror_mode": {
    "name": "ipython",
    "version": 3
   },
   "file_extension": ".py",
   "mimetype": "text/x-python",
   "name": "python",
   "nbconvert_exporter": "python",
   "pygments_lexer": "ipython3",
   "version": "3.8.5"
  }
 },
 "nbformat": 4,
 "nbformat_minor": 4
}
