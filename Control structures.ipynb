{
 "cells": [
  {
   "cell_type": "markdown",
   "metadata": {},
   "source": [
    "### Relational operator"
   ]
  },
  {
   "cell_type": "code",
   "execution_count": 1,
   "metadata": {},
   "outputs": [
    {
     "data": {
      "text/plain": [
       "False"
      ]
     },
     "execution_count": 1,
     "metadata": {},
     "output_type": "execute_result"
    }
   ],
   "source": [
    "#returns a boolean value True or False\n",
    "3>5"
   ]
  },
  {
   "cell_type": "code",
   "execution_count": 2,
   "metadata": {},
   "outputs": [
    {
     "data": {
      "text/plain": [
       "True"
      ]
     },
     "execution_count": 2,
     "metadata": {},
     "output_type": "execute_result"
    }
   ],
   "source": [
    "3==3"
   ]
  },
  {
   "cell_type": "markdown",
   "metadata": {},
   "source": [
    "### if-elif-else"
   ]
  },
  {
   "cell_type": "code",
   "execution_count": 5,
   "metadata": {},
   "outputs": [
    {
     "name": "stdout",
     "output_type": "stream",
     "text": [
      "enter a number: 88\n",
      "88 is less than 99 \n"
     ]
    }
   ],
   "source": [
    "# program to print a no is greater than 99 or not\n",
    "x = int(input(\"enter a number: \"))\n",
    "if x < 99:\n",
    "    print(x, \"is less than 99 \")\n",
    "else:\n",
    "    print(x, \"is greater than 99\")"
   ]
  },
  {
   "cell_type": "code",
   "execution_count": 7,
   "metadata": {},
   "outputs": [
    {
     "name": "stdout",
     "output_type": "stream",
     "text": [
      "enter a number: 666\n",
      "no\n"
     ]
    }
   ],
   "source": [
    "# WAP to print yes if a number lies between 1000 & 1100 or else print no\n",
    "x = int(input(\"enter a number: \"))\n",
    "if x < 1000:\n",
    "    print (\"no\")\n",
    "else:\n",
    "    if x > 1100:\n",
    "        print(\"no\")\n",
    "    else:\n",
    "        print(\"yes\")"
   ]
  },
  {
   "cell_type": "code",
   "execution_count": 10,
   "metadata": {},
   "outputs": [
    {
     "name": "stdout",
     "output_type": "stream",
     "text": [
      "enter a number: 1200\n",
      "no\n"
     ]
    }
   ],
   "source": [
    "# WAP to print yes if a number lies between 1000 & 1100 or else print no\n",
    "x = int(input(\"enter a number: \"))\n",
    "if x < 1000:\n",
    "    print (\"no\")\n",
    "elif x > 1100:\n",
    "    print(\"no\")\n",
    "else:\n",
    "    print(\"yes\")"
   ]
  },
  {
   "cell_type": "code",
   "execution_count": 12,
   "metadata": {},
   "outputs": [
    {
     "name": "stdout",
     "output_type": "stream",
     "text": [
      "enter the age: 65\n",
      "Welcome to the party\n"
     ]
    }
   ],
   "source": [
    "# WAP to record the age of a visitor and allow him if his age is below 18 or above 60\n",
    "age = int(input(\"enter the age: \"))\n",
    "\n",
    "if age < 18 or age > 60:\n",
    "    print(\"Welcome to the party\")\n",
    "else:\n",
    "    print(\"sorry u are not allowed\")"
   ]
  },
  {
   "cell_type": "code",
   "execution_count": 16,
   "metadata": {},
   "outputs": [
    {
     "name": "stdout",
     "output_type": "stream",
     "text": [
      "enter the bill:4566\n",
      "discount of 10 %\n"
     ]
    }
   ],
   "source": [
    "# WAP which offersv various discounts \n",
    "total_bill = int(input(\"enter the bill:\"))\n",
    "if total_bill >= 1000:\n",
    "    print(\"discount of 10 %\")\n",
    "elif total_bill >= 500:\n",
    "    print(\"discount of 5%\")\n",
    "elif total_bill >= 300:\n",
    "    print(\"discount of 3%\")\n",
    "else:\n",
    "    print(\"sorry no discount\")"
   ]
  },
  {
   "cell_type": "code",
   "execution_count": 28,
   "metadata": {},
   "outputs": [
    {
     "name": "stdout",
     "output_type": "stream",
     "text": [
      "enter year to check wheather new-zealand played in finalss or not:2020\n",
      "no match was held in  2020\n"
     ]
    }
   ],
   "source": [
    "# WAP to check wheather from a given dictionary if new-zealand played in finals in that year\n",
    "#in the dictionary year and name of finalists are given\n",
    "world_cups ={2019:[\"england\",\"new-zealand\"],2015:[\"australlia\",\"new-zealand\"],2011:[\"india\",\"srilanka\"],2007:[\"australlia\",\"srilanka\"],2003:[\"australlia\",\"india\"]}\n",
    "year = int(input(\"enter year to check wheather new-zealand played in finalss or not:\" ))\n",
    "if year in world_cups.keys() :\n",
    "        if \"new-zealand\" in world_cups[year]:\n",
    "            print(\"new-zealand made into finals\")\n",
    "        else:\n",
    "            print(\"new-zealand didnt made to finals\")\n",
    "else:\n",
    "    print(\"no match was held in \",year)\n",
    "                 "
   ]
  },
  {
   "cell_type": "markdown",
   "metadata": {},
   "source": [
    "### loops and iterations"
   ]
  },
  {
   "cell_type": "markdown",
   "metadata": {},
   "source": [
    "#### while loop"
   ]
  },
  {
   "cell_type": "code",
   "execution_count": 29,
   "metadata": {},
   "outputs": [
    {
     "name": "stdout",
     "output_type": "stream",
     "text": [
      "invalid pin please enter again: 1111\n",
      "invalid pin please enter again: 1234\n",
      "PIN verification succesful\n"
     ]
    }
   ],
   "source": [
    "#pin checking\n",
    "pin = (\"enter your 4 digit pin\")\n",
    "while pin != \"1234\":\n",
    "    pin = input(\"invalid pin please enter again: \")\n",
    "print(\"PIN verification succesful\")"
   ]
  },
  {
   "cell_type": "code",
   "execution_count": 4,
   "metadata": {},
   "outputs": [
    {
     "name": "stdout",
     "output_type": "stream",
     "text": [
      "invalid pin please enter again: 1234\n",
      "PIN verification succesful\n"
     ]
    }
   ],
   "source": [
    "# set a count\n",
    "import sys\n",
    "pin = (\"enter your 4 digit pin\")\n",
    "attempt_count =1\n",
    "while pin != \"1234\":\n",
    "    if attempt_count >=3:\n",
    "        sys.exit(\"Too many attempts\")\n",
    "    pin = input(\"invalid pin please enter again: \")\n",
    "    attempt_count = attempt_count + 1  #attempt_count += 1\n",
    "print(\"PIN verification succesful\")"
   ]
  },
  {
   "cell_type": "markdown",
   "metadata": {},
   "source": [
    "#### for loop"
   ]
  },
  {
   "cell_type": "code",
   "execution_count": 40,
   "metadata": {},
   "outputs": [
    {
     "name": "stdout",
     "output_type": "stream",
     "text": [
      "1\n",
      "2\n",
      "3\n",
      "4\n",
      "5\n"
     ]
    }
   ],
   "source": [
    "l = [1,2,3,4,5]\n",
    "for var in l:\n",
    "    print (var)"
   ]
  },
  {
   "cell_type": "code",
   "execution_count": 43,
   "metadata": {},
   "outputs": [
    {
     "name": "stdout",
     "output_type": "stream",
     "text": [
      "n:e:w:-:y:o:r:k:"
     ]
    }
   ],
   "source": [
    "string = \"new-york\"\n",
    "for char in string:\n",
    "    print(char, end =\":\")"
   ]
  },
  {
   "cell_type": "code",
   "execution_count": 45,
   "metadata": {},
   "outputs": [],
   "source": [
    "# loop over dictionaries\n",
    "students_data = {1:[\"sam\",24],2:[\"rob\",25],3:[\"jack\",26],4:[\"cornor\",24],5:[\"trump\",27]}"
   ]
  },
  {
   "cell_type": "code",
   "execution_count": 46,
   "metadata": {},
   "outputs": [
    {
     "name": "stdout",
     "output_type": "stream",
     "text": [
      "1 ['sam', 24]\n",
      "2 ['rob', 25]\n",
      "3 ['jack', 26]\n",
      "4 ['cornor', 24]\n",
      "5 ['trump', 27]\n"
     ]
    }
   ],
   "source": [
    "# print key and value\n",
    "for key,val in students_data.items():\n",
    "    print(key,val)"
   ]
  },
  {
   "cell_type": "code",
   "execution_count": 48,
   "metadata": {},
   "outputs": [
    {
     "name": "stdout",
     "output_type": "stream",
     "text": [
      "1\n",
      "2\n",
      "3\n",
      "4\n",
      "5\n"
     ]
    }
   ],
   "source": [
    "#print only key\n",
    "for key in students_data.keys():\n",
    "    print(key)"
   ]
  },
  {
   "cell_type": "code",
   "execution_count": 49,
   "metadata": {},
   "outputs": [
    {
     "name": "stdout",
     "output_type": "stream",
     "text": [
      "['sam', 24]\n",
      "['rob', 25]\n",
      "['jack', 26]\n",
      "['cornor', 24]\n",
      "['trump', 27]\n"
     ]
    }
   ],
   "source": [
    "for values in students_data.values():\n",
    "    print(values)"
   ]
  },
  {
   "cell_type": "code",
   "execution_count": 86,
   "metadata": {},
   "outputs": [
    {
     "name": "stdout",
     "output_type": "stream",
     "text": [
      "[11, 18, -2, 4, 3]\n"
     ]
    }
   ],
   "source": [
    "# WAP to subtract list2 from list1 using for loop\n",
    "l1 = [22,32,14,16,14]\n",
    "l2 = [11,14,16,12,11]\n",
    "l3 = [0,1,2,3,4]\n",
    "for i in l3:\n",
    "    l3[i] = l1[i] - l2[i]\n",
    "print(l3)"
   ]
  },
  {
   "cell_type": "code",
   "execution_count": 78,
   "metadata": {},
   "outputs": [
    {
     "name": "stdout",
     "output_type": "stream",
     "text": [
      "[11, 18, -2, 4, 3]\n"
     ]
    }
   ],
   "source": [
    "# WAP to subtract list2 from list1 using for loop\n",
    "l1 = [22,32,14,16,14]\n",
    "l2 = [11,14,16,12,11]\n",
    "l3 = []\n",
    "for i in range(len(l1)):\n",
    "    l3.append(l1[i]-l2[i])\n",
    "print(l3)\n"
   ]
  },
  {
   "cell_type": "markdown",
   "metadata": {},
   "source": [
    "### Range"
   ]
  },
  {
   "cell_type": "code",
   "execution_count": 2,
   "metadata": {},
   "outputs": [
    {
     "data": {
      "text/plain": [
       "[0, 1, 2, 3, 4]"
      ]
     },
     "execution_count": 2,
     "metadata": {},
     "output_type": "execute_result"
    }
   ],
   "source": [
    "l = list(range(5))\n",
    "l"
   ]
  },
  {
   "cell_type": "code",
   "execution_count": 1,
   "metadata": {},
   "outputs": [
    {
     "data": {
      "text/plain": [
       "[1, 2, 3, 4]"
      ]
     },
     "execution_count": 1,
     "metadata": {},
     "output_type": "execute_result"
    }
   ],
   "source": [
    "l = list(range(1,5))\n",
    "l"
   ]
  },
  {
   "cell_type": "code",
   "execution_count": 5,
   "metadata": {},
   "outputs": [
    {
     "data": {
      "text/plain": [
       "[0, 2, 4, 6, 8, 10]"
      ]
     },
     "execution_count": 5,
     "metadata": {},
     "output_type": "execute_result"
    }
   ],
   "source": [
    "l= list (range(0,11,2)) #creates a range with a count of 2\n",
    "l"
   ]
  },
  {
   "cell_type": "code",
   "execution_count": 6,
   "metadata": {},
   "outputs": [
    {
     "data": {
      "text/plain": [
       "[10, 8, 6, 4, 2]"
      ]
     },
     "execution_count": 6,
     "metadata": {},
     "output_type": "execute_result"
    }
   ],
   "source": [
    "l= list (range(10,1,-2)) #creates a range with a count of 2\n",
    "l"
   ]
  },
  {
   "cell_type": "code",
   "execution_count": 7,
   "metadata": {},
   "outputs": [
    {
     "name": "stdout",
     "output_type": "stream",
     "text": [
      "['Apple', 'Bat', 'Cat', 'Doll']\n"
     ]
    }
   ],
   "source": [
    "# WAP to convert the first letters in a list to capital\n",
    "small = [\"apple\",\"bat\",\"cat\",\"doll\"]\n",
    "new_list = []\n",
    "for i in small:\n",
    "    new_list.append(i.capitalize())\n",
    "print(new_list)\n",
    "    "
   ]
  },
  {
   "cell_type": "code",
   "execution_count": 8,
   "metadata": {},
   "outputs": [
    {
     "name": "stdout",
     "output_type": "stream",
     "text": [
      "['Apple', 'Bat', 'Cat', 'Doll']\n"
     ]
    }
   ],
   "source": [
    "new_list =[i.capitalize() for i in small]\n",
    "print(new_list)"
   ]
  },
  {
   "cell_type": "code",
   "execution_count": 13,
   "metadata": {},
   "outputs": [
    {
     "name": "stdout",
     "output_type": "stream",
     "text": [
      "1 is a prime no\n",
      "2 is a prime no\n",
      "3 is a prime no\n",
      "4 is not prime\n",
      "5 is a prime no\n",
      "6 is not prime\n",
      "7 is a prime no\n",
      "8 is not prime\n",
      "9 is not prime\n",
      "10 is not prime\n",
      "11 is a prime no\n",
      "12 is not prime\n",
      "13 is a prime no\n",
      "14 is not prime\n",
      "15 is not prime\n",
      "16 is not prime\n",
      "17 is a prime no\n",
      "18 is not prime\n",
      "19 is a prime no\n",
      "20 is not prime\n"
     ]
    }
   ],
   "source": [
    "# WAP to find the prime nos between 1 & 20\n",
    "for n in range(1,21):\n",
    "    flag = True\n",
    "    for i in range(2,n):\n",
    "        if n % i == 0:\n",
    "            print(n,\"is not prime\")\n",
    "            flag = False\n",
    "            break\n",
    "    if flag == True:\n",
    "            print(n,\"is a prime no\")\n",
    "            "
   ]
  },
  {
   "cell_type": "markdown",
   "metadata": {},
   "source": [
    "## Comprehensions"
   ]
  },
  {
   "cell_type": "markdown",
   "metadata": {},
   "source": [
    "### list comprehrensions"
   ]
  },
  {
   "cell_type": "code",
   "execution_count": 14,
   "metadata": {},
   "outputs": [
    {
     "name": "stdout",
     "output_type": "stream",
     "text": [
      "[11, 5, 4, 6, 14]\n"
     ]
    }
   ],
   "source": [
    "#WAP to write the length of a string in a list\n",
    "l1 = [\"automobiles\",\"honda\",\"benz\",\"suzuki\",\"morris garages\"]\n",
    "#normal approach\n",
    "l2 = []\n",
    "for i in l1:\n",
    "    l2.append(len(i))\n",
    "print(l2)"
   ]
  },
  {
   "cell_type": "code",
   "execution_count": 15,
   "metadata": {},
   "outputs": [
    {
     "data": {
      "text/plain": [
       "[11, 5, 4, 6, 14]"
      ]
     },
     "execution_count": 15,
     "metadata": {},
     "output_type": "execute_result"
    }
   ],
   "source": [
    "# comprehensive approach\n",
    "l2 = [len(i) for i in l1]\n",
    "l2"
   ]
  },
  {
   "cell_type": "code",
   "execution_count": 17,
   "metadata": {},
   "outputs": [
    {
     "data": {
      "text/plain": [
       "[11, 18, -2, 4, 3]"
      ]
     },
     "execution_count": 17,
     "metadata": {},
     "output_type": "execute_result"
    }
   ],
   "source": [
    "# Wap to find the difference between two lists using comprehensive approach\n",
    "l1 = [22,32,14,16,14]\n",
    "l2 = [11,14,16,12,11]\n",
    "l3 = [l1[i]-l2[i] for i in range(len(l1))]\n",
    "l3"
   ]
  },
  {
   "cell_type": "code",
   "execution_count": 18,
   "metadata": {},
   "outputs": [
    {
     "name": "stdout",
     "output_type": "stream",
     "text": [
      "automobiles - 11\n",
      "honda - 5\n",
      "benz - 4\n",
      "suzuki - 6\n",
      "morris garages - 14\n"
     ]
    }
   ],
   "source": [
    "# iterating through two lists\n",
    "l1 = [\"automobiles\",\"honda\",\"benz\",\"suzuki\",\"morris garages\"]\n",
    "l2 = [len(i) for i in l1]\n",
    "for i,j in zip(l1,l2):\n",
    "    print(i,\"-\",j)"
   ]
  },
  {
   "cell_type": "markdown",
   "metadata": {},
   "source": [
    "### Dictionary comprehensions"
   ]
  },
  {
   "cell_type": "code",
   "execution_count": 19,
   "metadata": {},
   "outputs": [
    {
     "name": "stdout",
     "output_type": "stream",
     "text": [
      "{'automobiles': 11, 'honda': 5, 'benz': 4, 'suzuki': 6, 'morris garages': 14}\n"
     ]
    }
   ],
   "source": [
    "# WAP to create a dictionary from a given list where key are the strings and values are the length of the strings\n",
    "l1 = [\"automobiles\",\"honda\",\"benz\",\"suzuki\",\"morris garages\"]\n",
    "d = { i:len(i) for i in l1}\n",
    "print(d)\n"
   ]
  },
  {
   "cell_type": "code",
   "execution_count": 22,
   "metadata": {},
   "outputs": [
    {
     "name": "stdout",
     "output_type": "stream",
     "text": [
      "{0: 0, 2: 4, 4: 16, 6: 36, 8: 64, 10: 100, 12: 144, 14: 196, 16: 256, 18: 324, 20: 400}\n"
     ]
    }
   ],
   "source": [
    "#wap to  create a dictionary of even natural nos as keys and their squates as values\n",
    "squares_even = {i : i**2 for i in range(0,21) if i% 2 ==0}\n",
    "print(squares_even)"
   ]
  },
  {
   "cell_type": "code",
   "execution_count": 23,
   "metadata": {},
   "outputs": [
    {
     "name": "stdout",
     "output_type": "stream",
     "text": [
      "enter the word : Eagle\n",
      "['E', 'a', 'e']\n"
     ]
    }
   ],
   "source": [
    "# Wap to take a word and return the values\n",
    "word = input(\"enter the word : \")\n",
    "vowels = [i for i in word if i in \"aeiouAEIOU\"]\n",
    "print (vowels)"
   ]
  },
  {
   "cell_type": "code",
   "execution_count": 24,
   "metadata": {},
   "outputs": [
    {
     "name": "stdout",
     "output_type": "stream",
     "text": [
      "['apple', 'old', 'item', 'euphoria']\n"
     ]
    }
   ],
   "source": [
    "# WAP to return a word from a list which starts with vowels \n",
    "input_list = [\"wood\",\"apple\",\"old\",\"big\",\"item\",\"euphoria\"]\n",
    "word_vowel = [word for word in input_list if word[0] in \"aeiouAEIOU\"]\n",
    "print(word_vowel)"
   ]
  },
  {
   "cell_type": "code",
   "execution_count": null,
   "metadata": {},
   "outputs": [],
   "source": []
  }
 ],
 "metadata": {
  "kernelspec": {
   "display_name": "Python 3",
   "language": "python",
   "name": "python3"
  },
  "language_info": {
   "codemirror_mode": {
    "name": "ipython",
    "version": 3
   },
   "file_extension": ".py",
   "mimetype": "text/x-python",
   "name": "python",
   "nbconvert_exporter": "python",
   "pygments_lexer": "ipython3",
   "version": "3.8.5"
  }
 },
 "nbformat": 4,
 "nbformat_minor": 4
}
