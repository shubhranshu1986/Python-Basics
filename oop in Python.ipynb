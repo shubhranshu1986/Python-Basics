{
 "cells": [
  {
   "cell_type": "markdown",
   "metadata": {},
   "source": [
    "##### defining  a class"
   ]
  },
  {
   "cell_type": "code",
   "execution_count": 7,
   "metadata": {},
   "outputs": [
    {
     "name": "stdout",
     "output_type": "stream",
     "text": [
      "akash 2031 vedanta B\n"
     ]
    }
   ],
   "source": [
    "class employee:\n",
    "    plant = \"vedanta\"\n",
    "    shift =\"B\"\n",
    "    def __init__ (self,name ,age ,eid):\n",
    "        self.name = name\n",
    "        self.age = age\n",
    "        self.eid = eid\n",
    "e1 = employee(\"akash\",32,2031)\n",
    "print(e1.name,e1.eid,employee.plant,e1.shift)"
   ]
  },
  {
   "cell_type": "code",
   "execution_count": 8,
   "metadata": {},
   "outputs": [],
   "source": [
    "e1.shift = \"c\""
   ]
  },
  {
   "cell_type": "code",
   "execution_count": 9,
   "metadata": {},
   "outputs": [
    {
     "name": "stdout",
     "output_type": "stream",
     "text": [
      "akash 2031 vedanta c\n"
     ]
    }
   ],
   "source": [
    "print(e1.name,e1.eid,employee.plant,e1.shift)"
   ]
  },
  {
   "cell_type": "markdown",
   "metadata": {},
   "source": [
    "#### method"
   ]
  },
  {
   "cell_type": "code",
   "execution_count": 26,
   "metadata": {},
   "outputs": [
    {
     "name": "stdout",
     "output_type": "stream",
     "text": [
      "3.14\n",
      "78.5\n"
     ]
    }
   ],
   "source": [
    "class circle:\n",
    "    pi = 3.14\n",
    "    def __init__ (self,radius):\n",
    "        self.radius = radius\n",
    "    def calc_radius(self):\n",
    "        return circle.pi * (self.radius ** 2)\n",
    "cir = circle(5)\n",
    "print(cir.pi)\n",
    "print(cir.calc_radius())"
   ]
  },
  {
   "cell_type": "markdown",
   "metadata": {},
   "source": [
    "#### class method and static method"
   ]
  },
  {
   "cell_type": "code",
   "execution_count": 54,
   "metadata": {},
   "outputs": [
    {
     "name": "stdout",
     "output_type": "stream",
     "text": [
      "5\n",
      "78.5\n",
      "3.1436\n",
      "this is static\n",
      "None\n"
     ]
    }
   ],
   "source": [
    "class circle:\n",
    "    pi = 3.14\n",
    "    def __init__ (self,radius):\n",
    "        self.radius = radius\n",
    "        \n",
    "        # instance method\n",
    "    def calc_radius(self):\n",
    "        return circle.pi * (self.radius ** 2)\n",
    "    \n",
    "    #class method\n",
    "    @classmethod\n",
    "    def acesspi(cls):\n",
    "        pi =3.1436\n",
    "        return pi\n",
    "    \n",
    "    #static method\n",
    "    @staticmethod\n",
    "    def cir_staticmethod():\n",
    "        print(\"this is static\")\n",
    "    \n",
    "    \n",
    "    \n",
    "cir = circle(5)\n",
    "print(cir.radius)\n",
    "print(cir.calc_radius())\n",
    "print(circle.acesspi())\n",
    "print(circle.cir_staticmethod())"
   ]
  },
  {
   "cell_type": "markdown",
   "metadata": {},
   "source": [
    "#### class inheritance and overriding"
   ]
  },
  {
   "cell_type": "code",
   "execution_count": 64,
   "metadata": {},
   "outputs": [
    {
     "name": "stdout",
     "output_type": "stream",
     "text": [
      "78.5\n",
      "3.14 5 red\n",
      "785.0\n",
      "10 15 blue\n",
      "150\n",
      "750\n"
     ]
    }
   ],
   "source": [
    "class shape:\n",
    "    def set_color(self,color):\n",
    "        self.color = color\n",
    "    def calc_area(self):\n",
    "        pass\n",
    "    def color_shape(self):\n",
    "        color_price = {\"red\":10,\"blue\":5,\"green\":15}\n",
    "        return self.calc_area() * color_price[self.color]\n",
    "\n",
    "class circle(shape):\n",
    "    pi = 3.14\n",
    "    def __init__ (self,radius):\n",
    "        self.radius = radius\n",
    "    def calc_area(self):\n",
    "        return circle.pi * (self.radius ** 2)\n",
    "    \n",
    "class rectangle(shape):\n",
    "    def __init__ (self,length,breadth):\n",
    "        self.length = length\n",
    "        self.breadth = breadth\n",
    "    def calc_area(self):\n",
    "        return self.length * self.breadth\n",
    "    \n",
    "cir = circle(5)\n",
    "cir.set_color (\"red\")\n",
    "print(cir.calc_area())\n",
    "print(cir.pi,cir.radius,cir.color)\n",
    "print(cir.color_shape())\n",
    "rect = rectangle(10,15)\n",
    "rect.set_color(\"blue\")\n",
    "print(rect.length,rect.breadth,rect.color)\n",
    "print(rect.calc_area())\n",
    "print(rect.color_shape())\n"
   ]
  },
  {
   "cell_type": "markdown",
   "metadata": {},
   "source": [
    "#### super function\n"
   ]
  },
  {
   "cell_type": "code",
   "execution_count": 83,
   "metadata": {},
   "outputs": [
    {
     "name": "stdout",
     "output_type": "stream",
     "text": [
      "1 3\n"
     ]
    }
   ],
   "source": [
    "class A:\n",
    "    def __init__ (self,x=1):\n",
    "        self.x =x\n",
    "class B(A):\n",
    "    def __init__ (self, y =2):\n",
    "        super().__init__()\n",
    "        self.y = y\n",
    "        \n",
    "def main():  \n",
    "    b = B(3)\n",
    "    print(b.x,b.y)\n",
    "main()\n"
   ]
  },
  {
   "cell_type": "markdown",
   "metadata": {},
   "source": [
    "#### icecream"
   ]
  },
  {
   "cell_type": "code",
   "execution_count": 1,
   "metadata": {},
   "outputs": [
    {
     "name": "stdout",
     "output_type": "stream",
     "text": [
      "Welcome to ice cream parlor\n",
      "Would you like ice cream(i) or sundae (s)\n",
      "what you want icecrean or sundae i/s :i\n",
      "available flavours are vanilla,strawberry,choclate,blueberry\n",
      "which flavour do u want: vanilla\n",
      "which size do u want s/l: l\n",
      "cost of ice cream =  33\n",
      "would you like anytghing else:\n",
      "enter your response y/n: n\n"
     ]
    }
   ],
   "source": [
    "class ice_cream:\n",
    "    small_cone = 1.5\n",
    "    large_cone = 2.5\n",
    "    pi =3.14\n",
    "    def flavour(self):\n",
    "        print(\"available flavours are vanilla,strawberry,choclate,blueberry\")\n",
    "        flv = input(\"which flavour do u want: \")\n",
    "        size = input(\"which size do u want s/l: \")\n",
    "        cost = self.cost_icecream(size)\n",
    "        if order_type == \"i\":\n",
    "            print(\"cost of ice cream = \",round(cost))\n",
    "        return round(cost)\n",
    "    \n",
    "    def cost_icecream(self,size):\n",
    "        if size == \"s\":\n",
    "            vol = 4/3 * self.pi *(self.small_cone ** 3)\n",
    "            cost = vol * 0.5\n",
    "        elif size == \"l\":\n",
    "            vol = 4/3 * self.pi *(self.large_cone ** 3)\n",
    "            cost = vol * 0.5\n",
    "        else:\n",
    "            print(\"enter a valid size\")\n",
    "        return cost\n",
    "            \n",
    "class toppings(ice_cream):\n",
    "    def select_top(self):\n",
    "        print(\"available toppings are choco_chips , caramel, sprinkles\")\n",
    "        top = input(\" enter what toppings do u like separated by comma: \")\n",
    "        top_list = top.split(\",\")\n",
    "        i_cost = self.flavour()\n",
    "        t_cost = self.topping_cost(top_list)\n",
    "        print(\"the cost of sundae is : \",i_cost + t_cost)\n",
    "         \n",
    "    def topping_cost(self,top_list):\n",
    "        cost = len(top_list) * 2\n",
    "        return cost\n",
    "        \n",
    "print(\"Welcome to ice cream parlor\")\n",
    "\n",
    "while True:\n",
    "    print(\"Would you like ice cream(i) or sundae (s)\")\n",
    "    order_type = input(\"what you want icecrean or sundae i/s :\")\n",
    "    if order_type == \"i\":\n",
    "        order = ice_cream()\n",
    "        order.flavour()\n",
    "    elif order_type == \"s\":\n",
    "        sundae = toppings()\n",
    "        sundae.select_top()\n",
    "    else:\n",
    "        print(\"enter a valid choice\")\n",
    "        \n",
    "    print(\"would you like anytghing else:\")\n",
    "    more = input(\"enter your response y/n: \")\n",
    "    if more == \"n\":\n",
    "        break"
   ]
  },
  {
   "cell_type": "markdown",
   "metadata": {},
   "source": [
    "#### Program by Ranjan sir\n"
   ]
  },
  {
   "cell_type": "code",
   "execution_count": 2,
   "metadata": {},
   "outputs": [
    {
     "name": "stdout",
     "output_type": "stream",
     "text": [
      "id1 namecustomer1 balance100\n",
      "id2 namecustomer2 balance200\n"
     ]
    }
   ],
   "source": [
    "class Employee:\n",
    "    def __init__(this,cid,name,balance):\n",
    "        this.cid = cid\n",
    "        this.name = name\n",
    "        this.balance = balance\n",
    "        \n",
    "class Program:\n",
    "    Employeelist =[]\n",
    "    def registerEmployee(self):\n",
    "        \n",
    "        for x in range (1,6):\n",
    "            c = Employee(x,\"customer\"+ str(x),x*100)\n",
    "            Program.Employeelist.append(c)\n",
    "            \n",
    "    def filtercustomers(self):\n",
    "        \n",
    "        lowbalcustomers = filter (lambda x : x.balance<300, Program.Employeelist )\n",
    "        \n",
    "        for cust in lowbalcustomers:\n",
    "            print( \"id{} name{} balance{}\".format(cust.cid,cust.name,cust.balance))\n",
    "p = Program()\n",
    "p.registerEmployee()\n",
    "p.filtercustomers()"
   ]
  },
  {
   "cell_type": "code",
   "execution_count": 7,
   "metadata": {},
   "outputs": [
    {
     "name": "stdout",
     "output_type": "stream",
     "text": [
      "30\n",
      "6\n"
     ]
    },
    {
     "data": {
      "text/plain": [
       "36"
      ]
     },
     "execution_count": 7,
     "metadata": {},
     "output_type": "execute_result"
    }
   ],
   "source": [
    "class A :\n",
    "    x = 10\n",
    "    def __init__(self, y,z):\n",
    "        self.y = y\n",
    "        self.z = z\n",
    "           \n",
    "    def update_y(self):\n",
    "        self.y = self.y * self.x\n",
    "        self.z = self.z * self.x\n",
    "        \n",
    "A1 = A(3,4)\n",
    "A2 = A(5,6)\n",
    "\n",
    "A1.update_y()\n",
    "\n",
    "A1.y + A2.z"
   ]
  },
  {
   "cell_type": "code",
   "execution_count": 8,
   "metadata": {},
   "outputs": [
    {
     "ename": "NameError",
     "evalue": "name 'self' is not defined",
     "output_type": "error",
     "traceback": [
      "\u001b[1;31m---------------------------------------------------------------------------\u001b[0m",
      "\u001b[1;31mNameError\u001b[0m                                 Traceback (most recent call last)",
      "\u001b[1;32m<ipython-input-8-06073d3b0578>\u001b[0m in \u001b[0;36m<module>\u001b[1;34m\u001b[0m\n\u001b[0;32m     16\u001b[0m \u001b[0mA2\u001b[0m \u001b[1;33m=\u001b[0m \u001b[0mA\u001b[0m\u001b[1;33m(\u001b[0m\u001b[1;36m5\u001b[0m\u001b[1;33m,\u001b[0m\u001b[1;36m6\u001b[0m\u001b[1;33m)\u001b[0m\u001b[1;33m\u001b[0m\u001b[1;33m\u001b[0m\u001b[0m\n\u001b[0;32m     17\u001b[0m \u001b[1;33m\u001b[0m\u001b[0m\n\u001b[1;32m---> 18\u001b[1;33m \u001b[0mA2\u001b[0m\u001b[1;33m.\u001b[0m\u001b[0mupdate_z\u001b[0m\u001b[1;33m(\u001b[0m\u001b[1;33m)\u001b[0m\u001b[1;33m\u001b[0m\u001b[1;33m\u001b[0m\u001b[0m\n\u001b[0m\u001b[0;32m     19\u001b[0m \u001b[0mA1\u001b[0m\u001b[1;33m.\u001b[0m\u001b[0my\u001b[0m \u001b[1;33m+\u001b[0m \u001b[0mA2\u001b[0m\u001b[1;33m.\u001b[0m\u001b[0mz\u001b[0m\u001b[1;33m\u001b[0m\u001b[1;33m\u001b[0m\u001b[0m\n",
      "\u001b[1;32m<ipython-input-8-06073d3b0578>\u001b[0m in \u001b[0;36mupdate_z\u001b[1;34m(cls)\u001b[0m\n\u001b[0;32m     10\u001b[0m     \u001b[1;33m@\u001b[0m\u001b[0mclassmethod\u001b[0m\u001b[1;33m\u001b[0m\u001b[1;33m\u001b[0m\u001b[0m\n\u001b[0;32m     11\u001b[0m     \u001b[1;32mdef\u001b[0m \u001b[0mupdate_z\u001b[0m\u001b[1;33m(\u001b[0m\u001b[0mcls\u001b[0m\u001b[1;33m)\u001b[0m\u001b[1;33m:\u001b[0m\u001b[1;33m\u001b[0m\u001b[1;33m\u001b[0m\u001b[0m\n\u001b[1;32m---> 12\u001b[1;33m         \u001b[0mself\u001b[0m\u001b[1;33m.\u001b[0m\u001b[0mz\u001b[0m \u001b[1;33m=\u001b[0m \u001b[0mself\u001b[0m\u001b[1;33m.\u001b[0m\u001b[0mz\u001b[0m \u001b[1;33m+\u001b[0m \u001b[1;36m20\u001b[0m\u001b[1;33m\u001b[0m\u001b[1;33m\u001b[0m\u001b[0m\n\u001b[0m\u001b[0;32m     13\u001b[0m \u001b[1;33m\u001b[0m\u001b[0m\n\u001b[0;32m     14\u001b[0m \u001b[1;33m\u001b[0m\u001b[0m\n",
      "\u001b[1;31mNameError\u001b[0m: name 'self' is not defined"
     ]
    }
   ],
   "source": [
    "class A :\n",
    "    x = 10\n",
    "    def __init__(self, y,z):\n",
    "        self.y = y\n",
    "        self.z = z\n",
    "           \n",
    "    def update_y(self):\n",
    "        self.y = self.y * self.x\n",
    "   \n",
    "    @classmethod\n",
    "    def update_z(cls):\n",
    "        self.z = self.z + 20\n",
    "\n",
    "        \n",
    "A1 = A(3,4)\n",
    "A2 = A(5,6)\n",
    "\n",
    "A2.update_z()\n",
    "A1.y + A2.z"
   ]
  },
  {
   "cell_type": "code",
   "execution_count": 9,
   "metadata": {},
   "outputs": [
    {
     "data": {
      "text/plain": [
       "33"
      ]
     },
     "execution_count": 9,
     "metadata": {},
     "output_type": "execute_result"
    }
   ],
   "source": [
    "class A :\n",
    "    x = 10\n",
    "    def __init__(self, y,z):\n",
    "        self.y = y\n",
    "        self.z = z\n",
    "           \n",
    "    def update_y(self):\n",
    "        self.y = self.y * self.z\n",
    "\n",
    "        \n",
    "        \n",
    "A1 = A(3,4)\n",
    "A2 = A(5,6)\n",
    "\n",
    "A.x = 30\n",
    "A1.y + A2.x"
   ]
  },
  {
   "cell_type": "code",
   "execution_count": null,
   "metadata": {},
   "outputs": [],
   "source": []
  }
 ],
 "metadata": {
  "kernelspec": {
   "display_name": "Python 3",
   "language": "python",
   "name": "python3"
  },
  "language_info": {
   "codemirror_mode": {
    "name": "ipython",
    "version": 3
   },
   "file_extension": ".py",
   "mimetype": "text/x-python",
   "name": "python",
   "nbconvert_exporter": "python",
   "pygments_lexer": "ipython3",
   "version": "3.8.5"
  }
 },
 "nbformat": 4,
 "nbformat_minor": 4
}
