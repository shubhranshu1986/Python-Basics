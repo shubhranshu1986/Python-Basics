{
 "cells": [
  {
   "cell_type": "markdown",
   "metadata": {},
   "source": [
    "## Functions"
   ]
  },
  {
   "cell_type": "code",
   "execution_count": null,
   "metadata": {},
   "outputs": [],
   "source": [
    "#syntax\n",
    "# def function name(parameters):"
   ]
  },
  {
   "cell_type": "code",
   "execution_count": 1,
   "metadata": {},
   "outputs": [
    {
     "data": {
      "text/plain": [
       "[1, -31, -38, -6, -20]"
      ]
     },
     "execution_count": 1,
     "metadata": {},
     "output_type": "execute_result"
    }
   ],
   "source": [
    "# WAP to subtract two list using function\n",
    "def sub_list(l1,l2):\n",
    "    l3 = []\n",
    "    for i in range(len(l1)):\n",
    "        l3.append(l1[i]-l2[i])\n",
    "    return l3\n",
    "    \n",
    "l1 = [12,13,14,15,16]\n",
    "l2 = [11,44,52,21,36]\n",
    "sub_list(l1,l2)"
   ]
  },
  {
   "cell_type": "code",
   "execution_count": 4,
   "metadata": {},
   "outputs": [
    {
     "name": "stdout",
     "output_type": "stream",
     "text": [
      "name:  suraj\n",
      "age:  24\n"
     ]
    }
   ],
   "source": [
    "#pass default parameters\n",
    "def func(name,age=35): #passing default value for age\n",
    "    print(\"name: \",name)\n",
    "    print(\"age: \",age)\n",
    "    \n",
    "func(\"suraj\",24)\n",
    "    "
   ]
  },
  {
   "cell_type": "code",
   "execution_count": 5,
   "metadata": {},
   "outputs": [
    {
     "name": "stdout",
     "output_type": "stream",
     "text": [
      "name:  suraj\n",
      "age:  35\n"
     ]
    }
   ],
   "source": [
    "func(\"suraj\")"
   ]
  },
  {
   "cell_type": "code",
   "execution_count": 6,
   "metadata": {},
   "outputs": [
    {
     "name": "stdout",
     "output_type": "stream",
     "text": [
      "name:  24\n",
      "age:  35\n"
     ]
    }
   ],
   "source": [
    "func(24)"
   ]
  },
  {
   "cell_type": "markdown",
   "metadata": {},
   "source": [
    "#### variable length argument"
   ]
  },
  {
   "cell_type": "code",
   "execution_count": 7,
   "metadata": {},
   "outputs": [
    {
     "name": "stdout",
     "output_type": "stream",
     "text": [
      "('suraj', 26, 1986)\n"
     ]
    }
   ],
   "source": [
    "def varlen(*args):  #takes any argument given\n",
    "    print(args)\n",
    "varlen(\"suraj\",26,1986)"
   ]
  },
  {
   "cell_type": "markdown",
   "metadata": {},
   "source": [
    "### Lambda function"
   ]
  },
  {
   "cell_type": "code",
   "execution_count": 8,
   "metadata": {},
   "outputs": [
    {
     "data": {
      "text/plain": [
       "'odd'"
      ]
     },
     "execution_count": 8,
     "metadata": {},
     "output_type": "execute_result"
    }
   ],
   "source": [
    "# syntax : function_name = lambda <space> input_parameter : output parameter\n",
    "# WAP to find a given nomis even or odd\n",
    "y = lambda x : \"even\" if x%2 == 0 else \"odd\"\n",
    "y(5)"
   ]
  },
  {
   "cell_type": "code",
   "execution_count": 9,
   "metadata": {},
   "outputs": [
    {
     "data": {
      "text/plain": [
       "9"
      ]
     },
     "execution_count": 9,
     "metadata": {},
     "output_type": "execute_result"
    }
   ],
   "source": [
    "# WAP to retain larger no between two\n",
    "greater = lambda x,y: x if x>y else y\n",
    "greater(5,9)"
   ]
  },
  {
   "cell_type": "markdown",
   "metadata": {},
   "source": [
    "## Map, Filter & Reduce"
   ]
  },
  {
   "cell_type": "markdown",
   "metadata": {},
   "source": [
    "#### Map\n"
   ]
  },
  {
   "cell_type": "code",
   "execution_count": 11,
   "metadata": {},
   "outputs": [
    {
     "data": {
      "text/plain": [
       "['LECTURER', 'DOCTOR', 'ENGINEER', 'LAWYER']"
      ]
     },
     "execution_count": 11,
     "metadata": {},
     "output_type": "execute_result"
    }
   ],
   "source": [
    "#map is a utility function which maps a collection to another collection of objects based on certain criteria\n",
    "# syntax : map(function,collection_or_list)\n",
    "# WAP using map to return upercase in a list\n",
    "jobs = [\"lecturer\",\"doctor\",\"engineer\",\"lawyer\"]\n",
    "list(map(lambda x : x.upper(),jobs))"
   ]
  },
  {
   "cell_type": "code",
   "execution_count": 13,
   "metadata": {},
   "outputs": [
    {
     "data": {
      "text/plain": [
       "[1, 4, 9, 16, 25]"
      ]
     },
     "execution_count": 13,
     "metadata": {},
     "output_type": "execute_result"
    }
   ],
   "source": [
    "# WAP to find a square of a given list\n",
    "l1 = [1,2,3,4,5]\n",
    "y = map(lambda x :x**2, l1)\n",
    "list(y)"
   ]
  },
  {
   "cell_type": "code",
   "execution_count": 16,
   "metadata": {},
   "outputs": [
    {
     "data": {
      "text/plain": [
       "[1, 4, 9, 16, 25]"
      ]
     },
     "execution_count": 16,
     "metadata": {},
     "output_type": "execute_result"
    }
   ],
   "source": [
    "#define a map using function \n",
    "l1 = [1,2,3,4,5]\n",
    "def sqar(n):\n",
    "    return n**2\n",
    "list(map(sqar,l1))\n"
   ]
  },
  {
   "cell_type": "markdown",
   "metadata": {},
   "source": [
    "### Filter"
   ]
  },
  {
   "cell_type": "code",
   "execution_count": 17,
   "metadata": {},
   "outputs": [
    {
     "data": {
      "text/plain": [
       "[3, 6, 9]"
      ]
     },
     "execution_count": 17,
     "metadata": {},
     "output_type": "execute_result"
    }
   ],
   "source": [
    "# filter is similar to map function,only one distinguishing feature being that it requires the function to look for a condition and returns only the elements from the list which satisfies the condition\n",
    "#syntax : filter(function, list)\n",
    "# WAP to return the numbers which are divisible by 3\n",
    "l1 = [3,4,5,6,7,8,9]\n",
    "list(filter(lambda x: x%3 ==0 , l1))"
   ]
  },
  {
   "cell_type": "code",
   "execution_count": 23,
   "metadata": {},
   "outputs": [
    {
     "data": {
      "text/plain": [
       "[3, 6, 9]"
      ]
     },
     "execution_count": 23,
     "metadata": {},
     "output_type": "execute_result"
    }
   ],
   "source": [
    "l1 = [3,4,5,6,7,8,9]\n",
    "def div_3 (n):\n",
    "    if n% 3 == 0:\n",
    "        return(n)\n",
    "div_3(6)\n",
    "list (filter(div_3,l1))"
   ]
  },
  {
   "cell_type": "markdown",
   "metadata": {},
   "source": [
    "### Reduce"
   ]
  },
  {
   "cell_type": "code",
   "execution_count": 2,
   "metadata": {},
   "outputs": [
    {
     "data": {
      "text/plain": [
       "[2, 3, 4, 6, 5, 4]"
      ]
     },
     "execution_count": 2,
     "metadata": {},
     "output_type": "execute_result"
    }
   ],
   "source": [
    "# It is an operation that breaks down the entire process into pairwise operations and uses the result from each operation with the successive element\n",
    "# syntax: reduce(function,iterable object)\n",
    "# reduce function needs to be imported from functools library\n",
    "# WAP to multiply successive elements ina list\n",
    "from functools import reduce\n",
    "l1 = [2,3,4,6,5,4]\n",
    "q = reduce(lambda x,y: x*y,l1)\n",
    "l1\n"
   ]
  },
  {
   "cell_type": "code",
   "execution_count": 4,
   "metadata": {},
   "outputs": [
    {
     "data": {
      "text/plain": [
       "6"
      ]
     },
     "execution_count": 4,
     "metadata": {},
     "output_type": "execute_result"
    }
   ],
   "source": [
    "l1 = [2,3,4,6,5,4]\n",
    "q = reduce(lambda x,y : x if x>y else y, l1)\n",
    "q"
   ]
  },
  {
   "cell_type": "code",
   "execution_count": null,
   "metadata": {},
   "outputs": [],
   "source": []
  }
 ],
 "metadata": {
  "kernelspec": {
   "display_name": "Python 3",
   "language": "python",
   "name": "python3"
  },
  "language_info": {
   "codemirror_mode": {
    "name": "ipython",
    "version": 3
   },
   "file_extension": ".py",
   "mimetype": "text/x-python",
   "name": "python",
   "nbconvert_exporter": "python",
   "pygments_lexer": "ipython3",
   "version": "3.8.5"
  }
 },
 "nbformat": 4,
 "nbformat_minor": 4
}
